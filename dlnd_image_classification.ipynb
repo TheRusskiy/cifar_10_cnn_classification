{
 "cells": [
  {
   "cell_type": "markdown",
   "metadata": {
    "collapsed": true,
    "deletable": true,
    "editable": true
   },
   "source": [
    "# Image Classification\n",
    "In this project, you'll classify images from the [CIFAR-10 dataset](https://www.cs.toronto.edu/~kriz/cifar.html).  The dataset consists of airplanes, dogs, cats, and other objects. You'll preprocess the images, then train a convolutional neural network on all the samples. The images need to be normalized and the labels need to be one-hot encoded.  You'll get to apply what you learned and build a convolutional, max pooling, dropout, and fully connected layers.  At the end, you'll get to see your neural network's predictions on the sample images.\n",
    "## Get the Data\n",
    "Run the following cell to download the [CIFAR-10 dataset for python](https://www.cs.toronto.edu/~kriz/cifar-10-python.tar.gz)."
   ]
  },
  {
   "cell_type": "code",
   "execution_count": 1,
   "metadata": {
    "collapsed": false,
    "deletable": true,
    "editable": true
   },
   "outputs": [
    {
     "name": "stdout",
     "output_type": "stream",
     "text": [
      "All files found!\n"
     ]
    }
   ],
   "source": [
    "\"\"\"\n",
    "DON'T MODIFY ANYTHING IN THIS CELL THAT IS BELOW THIS LINE\n",
    "\"\"\"\n",
    "from urllib.request import urlretrieve\n",
    "from os.path import isfile, isdir\n",
    "from tqdm import tqdm\n",
    "import problem_unittests as tests\n",
    "import tarfile\n",
    "\n",
    "cifar10_dataset_folder_path = 'cifar-10-batches-py'\n",
    "\n",
    "class DLProgress(tqdm):\n",
    "    last_block = 0\n",
    "\n",
    "    def hook(self, block_num=1, block_size=1, total_size=None):\n",
    "        self.total = total_size\n",
    "        self.update((block_num - self.last_block) * block_size)\n",
    "        self.last_block = block_num\n",
    "\n",
    "if not isfile('cifar-10-python.tar.gz'):\n",
    "    with DLProgress(unit='B', unit_scale=True, miniters=1, desc='CIFAR-10 Dataset') as pbar:\n",
    "        urlretrieve(\n",
    "            'https://www.cs.toronto.edu/~kriz/cifar-10-python.tar.gz',\n",
    "            'cifar-10-python.tar.gz',\n",
    "            pbar.hook)\n",
    "\n",
    "if not isdir(cifar10_dataset_folder_path):\n",
    "    with tarfile.open('cifar-10-python.tar.gz') as tar:\n",
    "        tar.extractall()\n",
    "        tar.close()\n",
    "\n",
    "\n",
    "tests.test_folder_path(cifar10_dataset_folder_path)"
   ]
  },
  {
   "cell_type": "markdown",
   "metadata": {
    "deletable": true,
    "editable": true
   },
   "source": [
    "## Explore the Data\n",
    "The dataset is broken into batches to prevent your machine from running out of memory.  The CIFAR-10 dataset consists of 5 batches, named `data_batch_1`, `data_batch_2`, etc.. Each batch contains the labels and images that are one of the following:\n",
    "* airplane\n",
    "* automobile\n",
    "* bird\n",
    "* cat\n",
    "* deer\n",
    "* dog\n",
    "* frog\n",
    "* horse\n",
    "* ship\n",
    "* truck\n",
    "\n",
    "Understanding a dataset is part of making predictions on the data.  Play around with the code cell below by changing the `batch_id` and `sample_id`. The `batch_id` is the id for a batch (1-5). The `sample_id` is the id for a image and label pair in the batch.\n",
    "\n",
    "Ask yourself \"What are all possible labels?\", \"What is the range of values for the image data?\", \"Are the labels in order or random?\".  Answers to questions like these will help you preprocess the data and end up with better predictions."
   ]
  },
  {
   "cell_type": "code",
   "execution_count": 2,
   "metadata": {
    "collapsed": false,
    "deletable": true,
    "editable": true
   },
   "outputs": [
    {
     "name": "stdout",
     "output_type": "stream",
     "text": [
      "\n",
      "Stats of batch 1:\n",
      "Samples: 10000\n",
      "Label Counts: {0: 1005, 1: 974, 2: 1032, 3: 1016, 4: 999, 5: 937, 6: 1030, 7: 1001, 8: 1025, 9: 981}\n",
      "First 20 Labels: [6, 9, 9, 4, 1, 1, 2, 7, 8, 3, 4, 7, 7, 2, 9, 9, 9, 3, 2, 6]\n",
      "\n",
      "Example of Image 5:\n",
      "Image - Min Value: 0 Max Value: 252\n",
      "Image - Shape: (32, 32, 3)\n",
      "Label - Label Id: 1 Name: automobile\n"
     ]
    },
    {
     "data": {
      "image/png": "[encoded data removed]",
      "text/plain": [
       "<matplotlib.figure.Figure at 0x7fd0cc1f7358>"
      ]
     },
     "metadata": {
      "image/png": {
       "height": 250,
       "width": 253
      }
     },
     "output_type": "display_data"
    }
   ],
   "source": [
    "%matplotlib inline\n",
    "%config InlineBackend.figure_format = 'retina'\n",
    "\n",
    "import helper\n",
    "import numpy as np\n",
    "\n",
    "# Explore the dataset\n",
    "batch_id = 1\n",
    "sample_id = 5\n",
    "helper.display_stats(cifar10_dataset_folder_path, batch_id, sample_id)"
   ]
  },
  {
   "cell_type": "markdown",
   "metadata": {
    "deletable": true,
    "editable": true
   },
   "source": [
    "## Implement Preprocess Functions\n",
    "### Normalize\n",
    "In the cell below, implement the `normalize` function to take in image data, `x`, and return it as a normalized Numpy array. The values should be in the range of 0 to 1, inclusive.  The return object should be the same shape as `x`."
   ]
  },
  {
   "cell_type": "code",
   "execution_count": 3,
   "metadata": {
    "collapsed": false,
    "deletable": true,
    "editable": true
   },
   "outputs": [
    {
     "name": "stdout",
     "output_type": "stream",
     "text": [
      "Tests Passed\n"
     ]
    }
   ],
   "source": [
    "from sklearn import preprocessing\n",
    "def normalize(examples):\n",
    "    \"\"\"\n",
    "    Normalize a list of sample image data in the range of 0 to 1\n",
    "    : x: List of image data.  The image shape is (32, 32, 3)\n",
    "    : return: Numpy array of normalize data\n",
    "    \"\"\"\n",
    "#     result = np.zeros((len(examples), 32, 32, 3))\n",
    "#     for i0, ex in enumerate(examples):\n",
    "#         for i1, d1 in enumerate(ex):\n",
    "#             for i2, d2 in enumerate(d1):\n",
    "#                 for i3, d3 in enumerate(d2):\n",
    "#                     result[i0][i1][i2][i3] = d3 / 255.0\n",
    "\n",
    "    return examples / 255.0\n",
    "\n",
    "\n",
    "\"\"\"\n",
    "DON'T MODIFY ANYTHING IN THIS CELL THAT IS BELOW THIS LINE\n",
    "\"\"\"\n",
    "tests.test_normalize(normalize)"
   ]
  },
  {
   "cell_type": "markdown",
   "metadata": {
    "deletable": true,
    "editable": true
   },
   "source": [
    "### One-hot encode\n",
    "Just like the previous code cell, you'll be implementing a function for preprocessing.  This time, you'll implement the `one_hot_encode` function. The input, `x`, are a list of labels.  Implement the function to return the list of labels as One-Hot encoded Numpy array.  The possible values for labels are 0 to 9. The one-hot encoding function should return the same encoding for each value between each call to `one_hot_encode`.  Make sure to save the map of encodings outside the function.\n",
    "\n",
    "Hint: Don't reinvent the wheel."
   ]
  },
  {
   "cell_type": "code",
   "execution_count": 4,
   "metadata": {
    "collapsed": false,
    "deletable": true,
    "editable": true
   },
   "outputs": [
    {
     "name": "stdout",
     "output_type": "stream",
     "text": [
      "Tests Passed\n"
     ]
    }
   ],
   "source": [
    "from sklearn import preprocessing\n",
    "lb = preprocessing.LabelBinarizer()\n",
    "lb.fit(list(range(0, 10)))\n",
    "def one_hot_encode(x):\n",
    "    lb.transform(x)\n",
    "    \"\"\"\n",
    "    One hot encode a list of sample labels. Return a one-hot encoded vector for each label.\n",
    "    : x: List of sample Labels\n",
    "    : return: Numpy array of one-hot encoded labels\n",
    "    \"\"\"\n",
    "    return lb.transform(x)\n",
    "\n",
    "\n",
    "\"\"\"\n",
    "DON'T MODIFY ANYTHING IN THIS CELL THAT IS BELOW THIS LINE\n",
    "\"\"\"\n",
    "tests.test_one_hot_encode(one_hot_encode)"
   ]
  },
  {
   "cell_type": "markdown",
   "metadata": {
    "deletable": true,
    "editable": true
   },
   "source": [
    "### Randomize Data\n",
    "As you saw from exploring the data above, the order of the samples are randomized.  It doesn't hurt to randomize it again, but you don't need to for this dataset."
   ]
  },
  {
   "cell_type": "markdown",
   "metadata": {
    "deletable": true,
    "editable": true
   },
   "source": [
    "## Preprocess all the data and save it\n",
    "Running the code cell below will preprocess all the CIFAR-10 data and save it to file. The code below also uses 10% of the training data for validation."
   ]
  },
  {
   "cell_type": "code",
   "execution_count": 5,
   "metadata": {
    "collapsed": false,
    "deletable": true,
    "editable": true
   },
   "outputs": [],
   "source": [
    "\"\"\"\n",
    "DON'T MODIFY ANYTHING IN THIS CELL\n",
    "\"\"\"\n",
    "# Preprocess Training, Validation, and Testing Data\n",
    "helper.preprocess_and_save_data(cifar10_dataset_folder_path, normalize, one_hot_encode)"
   ]
  },
  {
   "cell_type": "markdown",
   "metadata": {
    "deletable": true,
    "editable": true
   },
   "source": [
    "# Check Point\n",
    "This is your first checkpoint.  If you ever decide to come back to this notebook or have to restart the notebook, you can start from here.  The preprocessed data has been saved to disk."
   ]
  },
  {
   "cell_type": "code",
   "execution_count": 6,
   "metadata": {
    "collapsed": true,
    "deletable": true,
    "editable": true
   },
   "outputs": [],
   "source": [
    "\"\"\"\n",
    "DON'T MODIFY ANYTHING IN THIS CELL\n",
    "\"\"\"\n",
    "import pickle\n",
    "import problem_unittests as tests\n",
    "import helper\n",
    "\n",
    "# Load the Preprocessed Validation data\n",
    "valid_features, valid_labels = pickle.load(open('preprocess_validation.p', mode='rb'))"
   ]
  },
  {
   "cell_type": "markdown",
   "metadata": {
    "deletable": true,
    "editable": true
   },
   "source": [
    "## Build the network\n",
    "For the neural network, you'll build each layer into a function.  Most of the code you've seen has been outside of functions. To test your code more thoroughly, we require that you put each layer in a function.  This allows us to give you better feedback and test for simple mistakes using our unittests before you submit your project.\n",
    "\n",
    ">**Note:** If you're finding it hard to dedicate enough time for this course each week, we've provided a small shortcut to this part of the project. In the next couple of problems, you'll have the option to use classes from the [TensorFlow Layers](https://www.tensorflow.org/api_docs/python/tf/layers) or [TensorFlow Layers (contrib)](https://www.tensorflow.org/api_guides/python/contrib.layers) packages to build each layer, except the layers you build in the \"Convolutional and Max Pooling Layer\" section.  TF Layers is similar to Keras's and TFLearn's abstraction to layers, so it's easy to pickup.\n",
    "\n",
    ">However, if you would like to get the most out of this course, try to solve all the problems _without_ using anything from the TF Layers packages. You **can** still use classes from other packages that happen to have the same name as ones you find in TF Layers! For example, instead of using the TF Layers version of the `conv2d` class, [tf.layers.conv2d](https://www.tensorflow.org/api_docs/python/tf/layers/conv2d), you would want to use the TF Neural Network version of `conv2d`, [tf.nn.conv2d](https://www.tensorflow.org/api_docs/python/tf/nn/conv2d). \n",
    "\n",
    "Let's begin!\n",
    "\n",
    "### Input\n",
    "The neural network needs to read the image data, one-hot encoded labels, and dropout keep probability. Implement the following functions\n",
    "* Implement `neural_net_image_input`\n",
    " * Return a [TF Placeholder](https://www.tensorflow.org/api_docs/python/tf/placeholder)\n",
    " * Set the shape using `image_shape` with batch size set to `None`.\n",
    " * Name the TensorFlow placeholder \"x\" using the TensorFlow `name` parameter in the [TF Placeholder](https://www.tensorflow.org/api_docs/python/tf/placeholder).\n",
    "* Implement `neural_net_label_input`\n",
    " * Return a [TF Placeholder](https://www.tensorflow.org/api_docs/python/tf/placeholder)\n",
    " * Set the shape using `n_classes` with batch size set to `None`.\n",
    " * Name the TensorFlow placeholder \"y\" using the TensorFlow `name` parameter in the [TF Placeholder](https://www.tensorflow.org/api_docs/python/tf/placeholder).\n",
    "* Implement `neural_net_keep_prob_input`\n",
    " * Return a [TF Placeholder](https://www.tensorflow.org/api_docs/python/tf/placeholder) for dropout keep probability.\n",
    " * Name the TensorFlow placeholder \"keep_prob\" using the TensorFlow `name` parameter in the [TF Placeholder](https://www.tensorflow.org/api_docs/python/tf/placeholder).\n",
    "\n",
    "These names will be used at the end of the project to load your saved model.\n",
    "\n",
    "Note: `None` for shapes in TensorFlow allow for a dynamic size."
   ]
  },
  {
   "cell_type": "code",
   "execution_count": 7,
   "metadata": {
    "collapsed": false,
    "deletable": true,
    "editable": true
   },
   "outputs": [
    {
     "name": "stdout",
     "output_type": "stream",
     "text": [
      "Image Input Tests Passed.\n",
      "Label Input Tests Passed.\n",
      "Keep Prob Tests Passed.\n"
     ]
    }
   ],
   "source": [
    "import tensorflow as tf\n",
    "\n",
    "def neural_net_image_input(image_shape):\n",
    "    \"\"\"\n",
    "    Return a Tensor for a bach of image input\n",
    "    : image_shape: Shape of the images\n",
    "    : return: Tensor for image input.\n",
    "    \"\"\"\n",
    "    return tf.placeholder(tf.float32, [None] + list(image_shape), name='x')\n",
    "\n",
    "\n",
    "def neural_net_label_input(n_classes):\n",
    "    \"\"\"\n",
    "    Return a Tensor for a batch of label input\n",
    "    : n_classes: Number of classes\n",
    "    : return: Tensor for label input.\n",
    "    \"\"\"\n",
    "    return tf.placeholder(tf.float32, [None, n_classes], name='y')\n",
    "\n",
    "\n",
    "def neural_net_keep_prob_input():\n",
    "    \"\"\"\n",
    "    Return a Tensor for keep probability\n",
    "    : return: Tensor for keep probability.\n",
    "    \"\"\"\n",
    "    return tf.placeholder(tf.float32, name='keep_prob')\n",
    "\n",
    "\n",
    "\"\"\"\n",
    "DON'T MODIFY ANYTHING IN THIS CELL THAT IS BELOW THIS LINE\n",
    "\"\"\"\n",
    "tf.reset_default_graph()\n",
    "tests.test_nn_image_inputs(neural_net_image_input)\n",
    "tests.test_nn_label_inputs(neural_net_label_input)\n",
    "tests.test_nn_keep_prob_inputs(neural_net_keep_prob_input)"
   ]
  },
  {
   "cell_type": "markdown",
   "metadata": {
    "deletable": true,
    "editable": true
   },
   "source": [
    "### Convolution and Max Pooling Layer\n",
    "Convolution layers have a lot of success with images. For this code cell, you should implement the function `conv2d_maxpool` to apply convolution then max pooling:\n",
    "* Create the weight and bias using `conv_ksize`, `conv_num_outputs` and the shape of `x_tensor`.\n",
    "* Apply a convolution to `x_tensor` using weight and `conv_strides`.\n",
    " * We recommend you use same padding, but you're welcome to use any padding.\n",
    "* Add bias\n",
    "* Add a nonlinear activation to the convolution.\n",
    "* Apply Max Pooling using `pool_ksize` and `pool_strides`.\n",
    " * We recommend you use same padding, but you're welcome to use any padding.\n",
    "\n",
    "**Note:** You **can't** use [TensorFlow Layers](https://www.tensorflow.org/api_docs/python/tf/layers) or [TensorFlow Layers (contrib)](https://www.tensorflow.org/api_guides/python/contrib.layers) for **this** layer, but you can still use TensorFlow's [Neural Network](https://www.tensorflow.org/api_docs/python/tf/nn) package. You may still use the shortcut option for all the **other** layers."
   ]
  },
  {
   "cell_type": "code",
   "execution_count": 8,
   "metadata": {
    "collapsed": false,
    "deletable": true,
    "editable": true
   },
   "outputs": [
    {
     "name": "stdout",
     "output_type": "stream",
     "text": [
      "Tests Passed\n"
     ]
    }
   ],
   "source": [
    "def conv2d_maxpool(x_tensor, conv_num_outputs, conv_ksize, conv_strides, pool_ksize, pool_strides):\n",
    "    \"\"\"\n",
    "    Apply convolution then max pooling to x_tensor\n",
    "    :param x_tensor: TensorFlow Tensor\n",
    "    :param conv_num_outputs: Number of outputs for the convolutional layer\n",
    "    :param conv_ksize: kernal size 2-D Tuple for the convolutional layer\n",
    "    :param conv_strides: Stride 2-D Tuple for convolution\n",
    "    :param pool_ksize: kernal size 2-D Tuple for pool\n",
    "    :param pool_strides: Stride 2-D Tuple for pool\n",
    "    : return: A tensor that represents convolution and max pooling of x_tensor\n",
    "    \"\"\"\n",
    "    tensor_shape = x_tensor.get_shape().as_list()\n",
    "    input_size = tensor_shape[-1]\n",
    "    weights_shape = list(conv_ksize) + [input_size, conv_num_outputs]\n",
    "    weights = tf.Variable(tf.truncated_normal(weights_shape, stddev=0.1))\n",
    "    net = tf.nn.conv2d(\n",
    "        x_tensor, \n",
    "        weights, \n",
    "        strides=[1, conv_strides[0], conv_strides[1], 1], \n",
    "        padding='SAME'\n",
    "    )\n",
    "    net = tf.nn.bias_add(net, tf.Variable(tf.zeros([conv_num_outputs])))\n",
    "    net = tf.nn.relu(net)\n",
    "    net = tf.nn.max_pool(\n",
    "        net, \n",
    "        ksize=[1, pool_ksize[0], pool_ksize[1], 1], \n",
    "        strides=[1, pool_strides[0], pool_strides[1], 1], \n",
    "        padding='SAME'\n",
    "    )\n",
    "    return net\n",
    "\n",
    "\n",
    "\"\"\"\n",
    "DON'T MODIFY ANYTHING IN THIS CELL THAT IS BELOW THIS LINE\n",
    "\"\"\"\n",
    "tests.test_con_pool(conv2d_maxpool)"
   ]
  },
  {
   "cell_type": "markdown",
   "metadata": {
    "deletable": true,
    "editable": true
   },
   "source": [
    "### Flatten Layer\n",
    "Implement the `flatten` function to change the dimension of `x_tensor` from a 4-D tensor to a 2-D tensor.  The output should be the shape (*Batch Size*, *Flattened Image Size*). Shortcut option: you can use classes from the [TensorFlow Layers](https://www.tensorflow.org/api_docs/python/tf/layers) or [TensorFlow Layers (contrib)](https://www.tensorflow.org/api_guides/python/contrib.layers) packages for this layer. For more of a challenge, only use other TensorFlow packages."
   ]
  },
  {
   "cell_type": "code",
   "execution_count": 9,
   "metadata": {
    "collapsed": false,
    "deletable": true,
    "editable": true
   },
   "outputs": [
    {
     "name": "stdout",
     "output_type": "stream",
     "text": [
      "Tests Passed\n"
     ]
    }
   ],
   "source": [
    "def flatten(x_tensor):\n",
    "    \"\"\"\n",
    "    Flatten x_tensor to (Batch Size, Flattened Image Size)\n",
    "    : x_tensor: A tensor of size (Batch Size, ...), where ... are the image dimensions.\n",
    "    : return: A tensor of size (Batch Size, Flattened Image Size).\n",
    "    \"\"\"\n",
    "#     return tf.contrib.layers.flatten(x_tensor)\n",
    "    shape = x_tensor.get_shape().as_list()\n",
    "    dimension = 1\n",
    "    for d in shape:\n",
    "        if d:\n",
    "            dimension *= d\n",
    "    return tf.reshape(x_tensor, [-1, dimension])\n",
    "\n",
    "\n",
    "\"\"\"\n",
    "DON'T MODIFY ANYTHING IN THIS CELL THAT IS BELOW THIS LINE\n",
    "\"\"\"\n",
    "tests.test_flatten(flatten)"
   ]
  },
  {
   "cell_type": "markdown",
   "metadata": {
    "deletable": true,
    "editable": true
   },
   "source": [
    "### Fully-Connected Layer\n",
    "Implement the `fully_conn` function to apply a fully connected layer to `x_tensor` with the shape (*Batch Size*, *num_outputs*). Shortcut option: you can use classes from the [TensorFlow Layers](https://www.tensorflow.org/api_docs/python/tf/layers) or [TensorFlow Layers (contrib)](https://www.tensorflow.org/api_guides/python/contrib.layers) packages for this layer. For more of a challenge, only use other TensorFlow packages."
   ]
  },
  {
   "cell_type": "code",
   "execution_count": 10,
   "metadata": {
    "collapsed": false,
    "deletable": true,
    "editable": true
   },
   "outputs": [
    {
     "name": "stdout",
     "output_type": "stream",
     "text": [
      "Tests Passed\n"
     ]
    }
   ],
   "source": [
    "def fully_conn(x_tensor, num_outputs):\n",
    "    \"\"\"\n",
    "    Apply a fully connected layer to x_tensor using weight and bias\n",
    "    : x_tensor: A 2-D tensor where the first dimension is batch size.\n",
    "    : num_outputs: The number of output that the new tensor should be.\n",
    "    : return: A 2-D tensor where the second dimension is num_outputs.\n",
    "    \"\"\"\n",
    "    input_size = x_tensor.get_shape().as_list()[1]\n",
    "    weights = tf.Variable(tf.truncated_normal([input_size, num_outputs], stddev=0.1))\n",
    "    biases = tf.Variable(tf.zeros(num_outputs))\n",
    "    net = tf.add(tf.matmul(x_tensor, weights), biases)\n",
    "    net = tf.nn.relu(net)\n",
    "    return net\n",
    "\n",
    "\n",
    "\"\"\"\n",
    "DON'T MODIFY ANYTHING IN THIS CELL THAT IS BELOW THIS LINE\n",
    "\"\"\"\n",
    "tests.test_fully_conn(fully_conn)"
   ]
  },
  {
   "cell_type": "markdown",
   "metadata": {
    "deletable": true,
    "editable": true
   },
   "source": [
    "### Output Layer\n",
    "Implement the `output` function to apply a fully connected layer to `x_tensor` with the shape (*Batch Size*, *num_outputs*). Shortcut option: you can use classes from the [TensorFlow Layers](https://www.tensorflow.org/api_docs/python/tf/layers) or [TensorFlow Layers (contrib)](https://www.tensorflow.org/api_guides/python/contrib.layers) packages for this layer. For more of a challenge, only use other TensorFlow packages.\n",
    "\n",
    "**Note:** Activation, softmax, or cross entropy should **not** be applied to this."
   ]
  },
  {
   "cell_type": "code",
   "execution_count": 11,
   "metadata": {
    "collapsed": false,
    "deletable": true,
    "editable": true
   },
   "outputs": [
    {
     "name": "stdout",
     "output_type": "stream",
     "text": [
      "Tests Passed\n"
     ]
    }
   ],
   "source": [
    "def output(x_tensor, num_outputs):\n",
    "    \"\"\"\n",
    "    Apply a output layer to x_tensor using weight and bias\n",
    "    : x_tensor: A 2-D tensor where the first dimension is batch size.\n",
    "    : num_outputs: The number of output that the new tensor should be.\n",
    "    : return: A 2-D tensor where the second dimension is num_outputs.\n",
    "    \"\"\"\n",
    "    input_size = x_tensor.get_shape().as_list()[1]\n",
    "    weights = tf.Variable(tf.truncated_normal([input_size, num_outputs]))\n",
    "    biases = tf.Variable(tf.zeros(num_outputs))\n",
    "    net = tf.add(tf.matmul(x_tensor, weights), biases)\n",
    "    return net\n",
    "\n",
    "\n",
    "\"\"\"\n",
    "DON'T MODIFY ANYTHING IN THIS CELL THAT IS BELOW THIS LINE\n",
    "\"\"\"\n",
    "tests.test_output(output)"
   ]
  },
  {
   "cell_type": "markdown",
   "metadata": {
    "deletable": true,
    "editable": true
   },
   "source": [
    "### Create Convolutional Model\n",
    "Implement the function `conv_net` to create a convolutional neural network model. The function takes in a batch of images, `x`, and outputs logits.  Use the layers you created above to create this model:\n",
    "\n",
    "* Apply 1, 2, or 3 Convolution and Max Pool layers\n",
    "* Apply a Flatten Layer\n",
    "* Apply 1, 2, or 3 Fully Connected Layers\n",
    "* Apply an Output Layer\n",
    "* Return the output\n",
    "* Apply [TensorFlow's Dropout](https://www.tensorflow.org/api_docs/python/tf/nn/dropout) to one or more layers in the model using `keep_prob`. "
   ]
  },
  {
   "cell_type": "code",
   "execution_count": 12,
   "metadata": {
    "collapsed": false,
    "deletable": true,
    "editable": true
   },
   "outputs": [
    {
     "name": "stdout",
     "output_type": "stream",
     "text": [
      "Neural Network Built!\n"
     ]
    }
   ],
   "source": [
    "def conv_net(x, keep_prob):\n",
    "    \"\"\"\n",
    "    Create a convolutional neural network model\n",
    "    : x: Placeholder tensor that holds image data.\n",
    "    : keep_prob: Placeholder tensor that hold dropout keep probability.\n",
    "    : return: Tensor that represents logits\n",
    "    \"\"\"\n",
    "    \n",
    "    x_tensor = x\n",
    "    x_tensor = conv2d_maxpool(x_tensor, 40, (5,5), (2,2), (2,2), (2,2))\n",
    "    x_tensor = tf.nn.dropout(x_tensor, keep_prob)\n",
    "    x_tensor = conv2d_maxpool(x_tensor, 80, (3,3), (1,1), (2,2), (2,2))\n",
    "    x_tensor = tf.nn.dropout(x_tensor, keep_prob)\n",
    "    x_tensor = conv2d_maxpool(x_tensor, 120, (3,3), (1,1), (2,2), (2,2))\n",
    "    x_tensor = conv2d_maxpool(x_tensor, 240, (3,3), (1,1), (2,2), (2,2))\n",
    "    #    conv2d_maxpool(x_tensor, conv_num_outputs, conv_ksize, conv_strides, pool_ksize, pool_strides)\n",
    "    \n",
    "    x_tensor = flatten(x_tensor)\n",
    "    \n",
    "    x_tensor = fully_conn(x_tensor, 300)\n",
    "    x_tensor = fully_conn(x_tensor, 100)\n",
    "    \n",
    "    x_tensor = output(x_tensor, 10)\n",
    "    \n",
    "    return x_tensor\n",
    "\n",
    "\n",
    "\"\"\"\n",
    "DON'T MODIFY ANYTHING IN THIS CELL THAT IS BELOW THIS LINE\n",
    "\"\"\"\n",
    "\n",
    "##############################\n",
    "## Build the Neural Network ##\n",
    "##############################\n",
    "\n",
    "# Remove previous weights, bias, inputs, etc..\n",
    "tf.reset_default_graph()\n",
    "\n",
    "# Inputs\n",
    "x = neural_net_image_input((32, 32, 3))\n",
    "y = neural_net_label_input(10)\n",
    "keep_prob = neural_net_keep_prob_input()\n",
    "\n",
    "# Model\n",
    "logits = conv_net(x, keep_prob)\n",
    "\n",
    "# Name logits Tensor, so that is can be loaded from disk after training\n",
    "logits = tf.identity(logits, name='logits')\n",
    "\n",
    "# Loss and Optimizer\n",
    "cost = tf.reduce_mean(tf.nn.softmax_cross_entropy_with_logits(logits=logits, labels=y))\n",
    "optimizer = tf.train.AdamOptimizer().minimize(cost)\n",
    "\n",
    "# Accuracy\n",
    "correct_pred = tf.equal(tf.argmax(logits, 1), tf.argmax(y, 1))\n",
    "accuracy = tf.reduce_mean(tf.cast(correct_pred, tf.float32), name='accuracy')\n",
    "\n",
    "tests.test_conv_net(conv_net)"
   ]
  },
  {
   "cell_type": "markdown",
   "metadata": {
    "deletable": true,
    "editable": true
   },
   "source": [
    "## Train the Neural Network\n",
    "### Single Optimization\n",
    "Implement the function `train_neural_network` to do a single optimization.  The optimization should use `optimizer` to optimize in `session` with a `feed_dict` of the following:\n",
    "* `x` for image input\n",
    "* `y` for labels\n",
    "* `keep_prob` for keep probability for dropout\n",
    "\n",
    "This function will be called for each batch, so `tf.global_variables_initializer()` has already been called.\n",
    "\n",
    "Note: Nothing needs to be returned. This function is only optimizing the neural network."
   ]
  },
  {
   "cell_type": "code",
   "execution_count": 13,
   "metadata": {
    "collapsed": false,
    "deletable": true,
    "editable": true
   },
   "outputs": [
    {
     "name": "stdout",
     "output_type": "stream",
     "text": [
      "Tests Passed\n"
     ]
    }
   ],
   "source": [
    "def train_neural_network(session, optimizer, keep_probability, feature_batch, label_batch):\n",
    "    \"\"\"\n",
    "    Optimize the session on a batch of images and labels\n",
    "    : session: Current TensorFlow session\n",
    "    : optimizer: TensorFlow optimizer function\n",
    "    : keep_probability: keep probability\n",
    "    : feature_batch: Batch of Numpy image data\n",
    "    : label_batch: Batch of Numpy label data\n",
    "    \"\"\"\n",
    "    session.run(optimizer, \n",
    "               feed_dict={\n",
    "                  x: feature_batch,\n",
    "                  y: label_batch,\n",
    "                  keep_prob: keep_probability\n",
    "              })\n",
    "\n",
    "\n",
    "\"\"\"\n",
    "DON'T MODIFY ANYTHING IN THIS CELL THAT IS BELOW THIS LINE\n",
    "\"\"\"\n",
    "tests.test_train_nn(train_neural_network)"
   ]
  },
  {
   "cell_type": "markdown",
   "metadata": {
    "deletable": true,
    "editable": true
   },
   "source": [
    "### Show Stats\n",
    "Implement the function `print_stats` to print loss and validation accuracy.  Use the global variables `valid_features` and `valid_labels` to calculate validation accuracy.  Use a keep probability of `1.0` to calculate the loss and validation accuracy."
   ]
  },
  {
   "cell_type": "code",
   "execution_count": 14,
   "metadata": {
    "collapsed": false,
    "deletable": true,
    "editable": true
   },
   "outputs": [],
   "source": [
    "def print_stats(session, feature_batch, label_batch, cost, accuracy):\n",
    "    \"\"\"\n",
    "    Print information about loss and validation accuracy\n",
    "    : session: Current TensorFlow session\n",
    "    : feature_batch: Batch of Numpy image data\n",
    "    : label_batch: Batch of Numpy label data\n",
    "    : cost: TensorFlow cost function\n",
    "    : accuracy: TensorFlow accuracy function\n",
    "    \"\"\"\n",
    "    loss = session.run(cost, \n",
    "                       feed_dict={\n",
    "                           x: feature_batch,\n",
    "                           y: label_batch,\n",
    "                           keep_prob: 1.\n",
    "                       })\n",
    "    valid_acc = session.run(accuracy, \n",
    "                            feed_dict={\n",
    "                                x: valid_features,\n",
    "                                y: valid_labels,\n",
    "                                keep_prob: 1.\n",
    "                            })\n",
    "    print('Loss {:>4}, accuracy {:>4}:  '.format(loss, valid_acc), end='')"
   ]
  },
  {
   "cell_type": "markdown",
   "metadata": {
    "deletable": true,
    "editable": true
   },
   "source": [
    "### Hyperparameters\n",
    "Tune the following parameters:\n",
    "* Set `epochs` to the number of iterations until the network stops learning or start overfitting\n",
    "* Set `batch_size` to the highest number that your machine has memory for.  Most people set them to common sizes of memory:\n",
    " * 64\n",
    " * 128\n",
    " * 256\n",
    " * ...\n",
    "* Set `keep_probability` to the probability of keeping a node using dropout"
   ]
  },
  {
   "cell_type": "code",
   "execution_count": 22,
   "metadata": {
    "collapsed": true,
    "deletable": true,
    "editable": true
   },
   "outputs": [],
   "source": [
    "# Hyper Parameters\n",
    "epochs = 20\n",
    "batch_size = 256\n",
    "keep_probability = 0.8"
   ]
  },
  {
   "cell_type": "markdown",
   "metadata": {
    "deletable": true,
    "editable": true
   },
   "source": [
    "### Train on a Single CIFAR-10 Batch\n",
    "Instead of training the neural network on all the CIFAR-10 batches of data, let's use a single batch. This should save time while you iterate on the model to get a better accuracy.  Once the final validation accuracy is 50% or greater, run the model on all the data in the next section."
   ]
  },
  {
   "cell_type": "code",
   "execution_count": 23,
   "metadata": {
    "collapsed": false,
    "deletable": true,
    "editable": true
   },
   "outputs": [
    {
     "name": "stdout",
     "output_type": "stream",
     "text": [
      "Checking the Training on a Single Batch...\n",
      "Batch 36 / 39.0625\n",
      "Epoch  1, CIFAR-10 Batch 1:  Loss 2.202298879623413, accuracy 0.1889999955892563:  \n",
      "Batch 36 / 39.0625\n",
      "Epoch  2, CIFAR-10 Batch 1:  Loss 2.0480570793151855, accuracy 0.2483999878168106:  \n",
      "Batch 36 / 39.0625\n",
      "Epoch  3, CIFAR-10 Batch 1:  Loss 1.8338388204574585, accuracy 0.33079999685287476:  \n",
      "Batch 36 / 39.0625\n",
      "Epoch  4, CIFAR-10 Batch 1:  Loss 1.685880184173584, accuracy 0.39079999923706055:  \n",
      "Batch 36 / 39.0625\n",
      "Epoch  5, CIFAR-10 Batch 1:  Loss 1.549527645111084, accuracy 0.4121999740600586:  \n",
      "Batch 36 / 39.0625\n",
      "Epoch  6, CIFAR-10 Batch 1:  Loss 1.4627726078033447, accuracy 0.43139997124671936:  \n",
      "Batch 36 / 39.0625\n",
      "Epoch  7, CIFAR-10 Batch 1:  Loss 1.3803879022598267, accuracy 0.4477999806404114:  \n",
      "Batch 36 / 39.0625\n",
      "Epoch  8, CIFAR-10 Batch 1:  Loss 1.3824677467346191, accuracy 0.4553999602794647:  \n",
      "Batch 36 / 39.0625\n",
      "Epoch  9, CIFAR-10 Batch 1:  Loss 1.2174757719039917, accuracy 0.4705999493598938:  \n",
      "Batch 36 / 39.0625\n",
      "Epoch 10, CIFAR-10 Batch 1:  Loss 1.1245954036712646, accuracy 0.47939997911453247:  \n",
      "Batch 36 / 39.0625\n",
      "Epoch 11, CIFAR-10 Batch 1:  Loss 1.103005051612854, accuracy 0.4827999472618103:  \n",
      "Batch 36 / 39.0625\n",
      "Epoch 12, CIFAR-10 Batch 1:  Loss 1.065925121307373, accuracy 0.4851999580860138:  \n",
      "Batch 36 / 39.0625\n",
      "Epoch 13, CIFAR-10 Batch 1:  Loss 0.994152307510376, accuracy 0.5095999240875244:  \n",
      "Batch 36 / 39.0625\n",
      "Epoch 14, CIFAR-10 Batch 1:  Loss 0.8824366927146912, accuracy 0.5115999579429626:  \n",
      "Batch 36 / 39.0625\n",
      "Epoch 15, CIFAR-10 Batch 1:  Loss 0.8362715244293213, accuracy 0.5039999485015869:  \n",
      "Batch 36 / 39.0625\n",
      "Epoch 16, CIFAR-10 Batch 1:  Loss 0.7760274410247803, accuracy 0.5087999105453491:  \n",
      "Batch 36 / 39.0625\n",
      "Epoch 17, CIFAR-10 Batch 1:  Loss 0.7522074580192566, accuracy 0.5187999606132507:  \n",
      "Batch 36 / 39.0625\n",
      "Epoch 18, CIFAR-10 Batch 1:  Loss 0.765004575252533, accuracy 0.5049999356269836:  \n",
      "Batch 36 / 39.0625\n",
      "Epoch 19, CIFAR-10 Batch 1:  Loss 0.6909781694412231, accuracy 0.5133999586105347:  \n",
      "Batch 36 / 39.0625\n",
      "Epoch 20, CIFAR-10 Batch 1:  Loss 0.63409823179245, accuracy 0.527199923992157:  \n",
      "\n",
      "Done\n"
     ]
    }
   ],
   "source": [
    "import sys\n",
    "\"\"\"\n",
    "DON'T MODIFY ANYTHING IN THIS CELL\n",
    "\"\"\"\n",
    "print('Checking the Training on a Single Batch...')\n",
    "with tf.Session() as sess:\n",
    "    # Initializing the variables\n",
    "    sess.run(tf.global_variables_initializer())\n",
    "    \n",
    "    # Training cycle\n",
    "    for epoch in range(epochs):\n",
    "        batch_i = 1\n",
    "        current_batch = 1\n",
    "        total_batches = 10000 / batch_size\n",
    "        for batch_features, batch_labels in helper.load_preprocess_training_batch(batch_i, batch_size):\n",
    "            train_neural_network(sess, optimizer, keep_probability, batch_features, batch_labels)\n",
    "            sys.stdout.write(\"\\rBatch \" + str(current_batch) + \" / \" + str(total_batches))\n",
    "            current_batch += 1\n",
    "        print('')\n",
    "        print('Epoch {:>2}, CIFAR-10 Batch {}:  '.format(epoch + 1, batch_i), end='')\n",
    "        print_stats(sess, batch_features, batch_labels, cost, accuracy)\n",
    "        print('')\n",
    "print('')\n",
    "print('Done')"
   ]
  },
  {
   "cell_type": "markdown",
   "metadata": {
    "deletable": true,
    "editable": true
   },
   "source": [
    "### Fully Train the Model\n",
    "Now that you got a good accuracy with a single CIFAR-10 batch, try it with all five batches."
   ]
  },
  {
   "cell_type": "code",
   "execution_count": 24,
   "metadata": {
    "collapsed": false,
    "deletable": true,
    "editable": true
   },
   "outputs": [
    {
     "name": "stdout",
     "output_type": "stream",
     "text": [
      "Training...\n",
      "\n",
      "Epoch  1, CIFAR-10 Batch 1:  Loss 2.324000120162964, accuracy 0.14980000257492065:  \n",
      "Epoch  1, CIFAR-10 Batch 2:  Loss 2.204813241958618, accuracy 0.22100000083446503:  \n",
      "Epoch  1, CIFAR-10 Batch 3:  Loss 1.9202380180358887, accuracy 0.2913999855518341:  \n",
      "Epoch  1, CIFAR-10 Batch 4:  Loss 1.9353787899017334, accuracy 0.28939998149871826:  \n",
      "Epoch  1, CIFAR-10 Batch 5:  Loss 1.8799340724945068, accuracy 0.3497999608516693:  \n",
      "Epoch  2, CIFAR-10 Batch 1:  Loss 1.8767971992492676, accuracy 0.3709999620914459:  \n",
      "Epoch  2, CIFAR-10 Batch 2:  Loss 1.7556602954864502, accuracy 0.39640000462532043:  \n",
      "Epoch  2, CIFAR-10 Batch 3:  Loss 1.5101228952407837, accuracy 0.38179999589920044:  \n",
      "Epoch  2, CIFAR-10 Batch 4:  Loss 1.6280474662780762, accuracy 0.4073999524116516:  \n",
      "Epoch  2, CIFAR-10 Batch 5:  Loss 1.6237192153930664, accuracy 0.42640000581741333:  \n",
      "Epoch  3, CIFAR-10 Batch 1:  Loss 1.5883164405822754, accuracy 0.4349999725818634:  \n",
      "Epoch  3, CIFAR-10 Batch 2:  Loss 1.584845781326294, accuracy 0.4349999725818634:  \n",
      "Epoch  3, CIFAR-10 Batch 3:  Loss 1.2836380004882812, accuracy 0.4519999325275421:  \n",
      "Epoch  3, CIFAR-10 Batch 4:  Loss 1.4181056022644043, accuracy 0.4519999623298645:  \n",
      "Epoch  3, CIFAR-10 Batch 5:  Loss 1.5024991035461426, accuracy 0.46119996905326843:  \n",
      "Epoch  4, CIFAR-10 Batch 1:  Loss 1.4009528160095215, accuracy 0.4771999716758728:  \n",
      "Epoch  4, CIFAR-10 Batch 2:  Loss 1.4543445110321045, accuracy 0.48260000348091125:  \n",
      "Epoch  4, CIFAR-10 Batch 3:  Loss 1.2674756050109863, accuracy 0.4697999358177185:  \n",
      "Epoch  4, CIFAR-10 Batch 4:  Loss 1.3294274806976318, accuracy 0.4828000068664551:  \n",
      "Epoch  4, CIFAR-10 Batch 5:  Loss 1.3276138305664062, accuracy 0.5073999762535095:  \n",
      "Epoch  5, CIFAR-10 Batch 1:  Loss 1.3563578128814697, accuracy 0.49119997024536133:  \n",
      "Epoch  5, CIFAR-10 Batch 2:  Loss 1.3893405199050903, accuracy 0.4771999716758728:  \n",
      "Epoch  5, CIFAR-10 Batch 3:  Loss 1.0555158853530884, accuracy 0.5133999586105347:  \n",
      "Epoch  5, CIFAR-10 Batch 4:  Loss 1.2263717651367188, accuracy 0.49959996342658997:  \n",
      "Epoch  5, CIFAR-10 Batch 5:  Loss 1.2923892736434937, accuracy 0.5011999607086182:  \n",
      "Epoch  6, CIFAR-10 Batch 1:  Loss 1.1874415874481201, accuracy 0.5237999558448792:  \n",
      "Epoch  6, CIFAR-10 Batch 2:  Loss 1.2060599327087402, accuracy 0.5307999849319458:  \n",
      "Epoch  6, CIFAR-10 Batch 3:  Loss 0.9607492685317993, accuracy 0.5215999484062195:  \n",
      "Epoch  6, CIFAR-10 Batch 4:  Loss 1.0734277963638306, accuracy 0.5241999626159668:  \n",
      "Epoch  6, CIFAR-10 Batch 5:  Loss 1.1356666088104248, accuracy 0.5409998893737793:  \n",
      "Epoch  7, CIFAR-10 Batch 1:  Loss 1.1480863094329834, accuracy 0.5469998717308044:  \n",
      "Epoch  7, CIFAR-10 Batch 2:  Loss 1.0886331796646118, accuracy 0.5523999333381653:  \n",
      "Epoch  7, CIFAR-10 Batch 3:  Loss 0.8600320816040039, accuracy 0.5485999584197998:  \n",
      "Epoch  7, CIFAR-10 Batch 4:  Loss 1.0252962112426758, accuracy 0.5347999334335327:  \n",
      "Epoch  7, CIFAR-10 Batch 5:  Loss 0.9957166314125061, accuracy 0.5775999426841736:  \n",
      "Epoch  8, CIFAR-10 Batch 1:  Loss 1.1223880052566528, accuracy 0.5577999353408813:  \n",
      "Epoch  8, CIFAR-10 Batch 2:  Loss 1.0405540466308594, accuracy 0.5715999603271484:  \n",
      "Epoch  8, CIFAR-10 Batch 3:  Loss 0.7202965617179871, accuracy 0.5745999217033386:  \n",
      "Epoch  8, CIFAR-10 Batch 4:  Loss 0.8932210206985474, accuracy 0.5639999508857727:  \n",
      "Epoch  8, CIFAR-10 Batch 5:  Loss 0.8957545757293701, accuracy 0.5861998796463013:  \n",
      "Epoch  9, CIFAR-10 Batch 1:  Loss 1.074069619178772, accuracy 0.5719999074935913:  \n",
      "Epoch  9, CIFAR-10 Batch 2:  Loss 0.9244303703308105, accuracy 0.5827999114990234:  \n",
      "Epoch  9, CIFAR-10 Batch 3:  Loss 0.7127017974853516, accuracy 0.5851999521255493:  \n",
      "Epoch  9, CIFAR-10 Batch 4:  Loss 0.8655408620834351, accuracy 0.5683999061584473:  \n",
      "Epoch  9, CIFAR-10 Batch 5:  Loss 0.798022449016571, accuracy 0.6051998734474182:  \n",
      "Epoch 10, CIFAR-10 Batch 1:  Loss 0.8782422542572021, accuracy 0.5961998701095581:  \n",
      "Epoch 10, CIFAR-10 Batch 2:  Loss 0.8607104420661926, accuracy 0.5981998443603516:  \n",
      "Epoch 10, CIFAR-10 Batch 3:  Loss 0.603302001953125, accuracy 0.6011998653411865:  \n",
      "Epoch 10, CIFAR-10 Batch 4:  Loss 0.7986487150192261, accuracy 0.5681999325752258:  \n",
      "Epoch 10, CIFAR-10 Batch 5:  Loss 0.7320706844329834, accuracy 0.6083999872207642:  \n",
      "Epoch 11, CIFAR-10 Batch 1:  Loss 0.8459470868110657, accuracy 0.6029999256134033:  \n",
      "Epoch 11, CIFAR-10 Batch 2:  Loss 0.7169289588928223, accuracy 0.6121999025344849:  \n",
      "Epoch 11, CIFAR-10 Batch 3:  Loss 0.5520074963569641, accuracy 0.614799976348877:  \n",
      "Epoch 11, CIFAR-10 Batch 4:  Loss 0.7384166717529297, accuracy 0.6059999465942383:  \n",
      "Epoch 11, CIFAR-10 Batch 5:  Loss 0.7123549580574036, accuracy 0.6201999187469482:  \n",
      "Epoch 12, CIFAR-10 Batch 1:  Loss 0.8027130365371704, accuracy 0.6051998734474182:  \n",
      "Epoch 12, CIFAR-10 Batch 2:  Loss 0.6592216491699219, accuracy 0.6261998414993286:  \n",
      "Epoch 12, CIFAR-10 Batch 3:  Loss 0.43738269805908203, accuracy 0.6349998712539673:  \n",
      "Epoch 12, CIFAR-10 Batch 4:  Loss 0.5966477394104004, accuracy 0.627799928188324:  \n",
      "Epoch 12, CIFAR-10 Batch 5:  Loss 0.6078110933303833, accuracy 0.6369998455047607:  \n",
      "Epoch 13, CIFAR-10 Batch 1:  Loss 0.6130581498146057, accuracy 0.6369999647140503:  \n",
      "Epoch 13, CIFAR-10 Batch 2:  Loss 0.5962666869163513, accuracy 0.6253998875617981:  \n",
      "Epoch 13, CIFAR-10 Batch 3:  Loss 0.436596155166626, accuracy 0.6301999092102051:  \n",
      "Epoch 13, CIFAR-10 Batch 4:  Loss 0.5770068168640137, accuracy 0.6481999158859253:  \n",
      "Epoch 13, CIFAR-10 Batch 5:  Loss 0.5690425038337708, accuracy 0.6439998745918274:  \n",
      "Epoch 14, CIFAR-10 Batch 1:  Loss 0.6563928723335266, accuracy 0.6315999031066895:  \n",
      "Epoch 14, CIFAR-10 Batch 2:  Loss 0.5746323466300964, accuracy 0.6205998659133911:  \n",
      "Epoch 14, CIFAR-10 Batch 3:  Loss 0.36601030826568604, accuracy 0.6377999186515808:  \n",
      "Epoch 14, CIFAR-10 Batch 4:  Loss 0.5263822078704834, accuracy 0.6363999247550964:  \n",
      "Epoch 14, CIFAR-10 Batch 5:  Loss 0.46389204263687134, accuracy 0.65559983253479:  \n",
      "Epoch 15, CIFAR-10 Batch 1:  Loss 0.5938834547996521, accuracy 0.6375999450683594:  \n",
      "Epoch 15, CIFAR-10 Batch 2:  Loss 0.5130484104156494, accuracy 0.6357998847961426:  \n",
      "Epoch 15, CIFAR-10 Batch 3:  Loss 0.34177082777023315, accuracy 0.6479998826980591:  \n",
      "Epoch 15, CIFAR-10 Batch 4:  Loss 0.4364290237426758, accuracy 0.6445999145507812:  \n",
      "Epoch 15, CIFAR-10 Batch 5:  Loss 0.428611695766449, accuracy 0.6671998500823975:  \n",
      "Epoch 16, CIFAR-10 Batch 1:  Loss 0.5648398995399475, accuracy 0.657599925994873:  \n",
      "Epoch 16, CIFAR-10 Batch 2:  Loss 0.4098072648048401, accuracy 0.6645998954772949:  \n",
      "Epoch 16, CIFAR-10 Batch 3:  Loss 0.30567389726638794, accuracy 0.6593999266624451:  \n",
      "Epoch 16, CIFAR-10 Batch 4:  Loss 0.3957376182079315, accuracy 0.6579998731613159:  \n",
      "Epoch 16, CIFAR-10 Batch 5:  Loss 0.3935946226119995, accuracy 0.664199948310852:  \n",
      "Epoch 17, CIFAR-10 Batch 1:  Loss 0.48200616240501404, accuracy 0.6369999647140503:  \n",
      "Epoch 17, CIFAR-10 Batch 2:  Loss 0.3899866044521332, accuracy 0.6643998622894287:  \n",
      "Epoch 17, CIFAR-10 Batch 3:  Loss 0.26664602756500244, accuracy 0.6689998507499695:  \n",
      "Epoch 17, CIFAR-10 Batch 4:  Loss 0.3342795670032501, accuracy 0.6633999347686768:  \n",
      "Epoch 17, CIFAR-10 Batch 5:  Loss 0.3766818046569824, accuracy 0.671799898147583:  \n",
      "Epoch 18, CIFAR-10 Batch 1:  Loss 0.40057632327079773, accuracy 0.6593998670578003:  \n",
      "Epoch 18, CIFAR-10 Batch 2:  Loss 0.3580838739871979, accuracy 0.6669999361038208:  \n",
      "Epoch 18, CIFAR-10 Batch 3:  Loss 0.25471603870391846, accuracy 0.6695998907089233:  \n",
      "Epoch 18, CIFAR-10 Batch 4:  Loss 0.2848098874092102, accuracy 0.6599998474121094:  \n",
      "Epoch 18, CIFAR-10 Batch 5:  Loss 0.2619626820087433, accuracy 0.6759998798370361:  \n",
      "Epoch 19, CIFAR-10 Batch 1:  Loss 0.364935040473938, accuracy 0.668799877166748:  \n",
      "Epoch 19, CIFAR-10 Batch 2:  Loss 0.3457338809967041, accuracy 0.669999897480011:  \n",
      "Epoch 19, CIFAR-10 Batch 3:  Loss 0.24242499470710754, accuracy 0.6703998446464539:  \n",
      "Epoch 19, CIFAR-10 Batch 4:  Loss 0.3414175510406494, accuracy 0.6597999334335327:  \n",
      "Epoch 19, CIFAR-10 Batch 5:  Loss 0.26045340299606323, accuracy 0.6833998560905457:  \n",
      "Epoch 20, CIFAR-10 Batch 1:  Loss 0.31751251220703125, accuracy 0.6545998454093933:  \n",
      "Epoch 20, CIFAR-10 Batch 2:  Loss 0.31164851784706116, accuracy 0.6723998785018921:  \n",
      "Epoch 20, CIFAR-10 Batch 3:  Loss 0.18809255957603455, accuracy 0.6809998750686646:  \n",
      "Epoch 20, CIFAR-10 Batch 4:  Loss 0.24262192845344543, accuracy 0.6761999130249023:  \n",
      "Epoch 20, CIFAR-10 Batch 5:  Loss 0.22570590674877167, accuracy 0.6835998892784119:  \n",
      "Done\n"
     ]
    }
   ],
   "source": [
    "\"\"\"\n",
    "DON'T MODIFY ANYTHING IN THIS CELL\n",
    "\"\"\"\n",
    "save_model_path = './image_classification'\n",
    "\n",
    "print('Training...')\n",
    "with tf.Session() as sess:\n",
    "    # Initializing the variables\n",
    "    sess.run(tf.global_variables_initializer())\n",
    "    \n",
    "    # Training cycle\n",
    "    for epoch in range(epochs):\n",
    "        # Loop over all batches\n",
    "        n_batches = 5\n",
    "        for batch_i in range(1, n_batches + 1):\n",
    "            for batch_features, batch_labels in helper.load_preprocess_training_batch(batch_i, batch_size):\n",
    "                train_neural_network(sess, optimizer, keep_probability, batch_features, batch_labels)\n",
    "            print('')\n",
    "            print('Epoch {:>2}, CIFAR-10 Batch {}:  '.format(epoch + 1, batch_i), end='')\n",
    "            print_stats(sess, batch_features, batch_labels, cost, accuracy)\n",
    "    print('')\n",
    "    print('Done')\n",
    "    # Save Model\n",
    "    saver = tf.train.Saver()\n",
    "    save_path = saver.save(sess, save_model_path)"
   ]
  },
  {
   "cell_type": "markdown",
   "metadata": {
    "deletable": true,
    "editable": true
   },
   "source": [
    "# Checkpoint\n",
    "The model has been saved to disk.\n",
    "## Test Model\n",
    "Test your model against the test dataset.  This will be your final accuracy. You should have an accuracy greater than 50%. If you don't, keep tweaking the model architecture and parameters."
   ]
  },
  {
   "cell_type": "code",
   "execution_count": 25,
   "metadata": {
    "collapsed": false,
    "deletable": true,
    "editable": true
   },
   "outputs": [
    {
     "name": "stdout",
     "output_type": "stream",
     "text": [
      "Testing Accuracy: 0.67919921875\n",
      "\n"
     ]
    },
    {
     "data": {
      "image/png": "[encoded data removed]",
      "text/plain": [
       "<matplotlib.figure.Figure at 0x7fd01767bda0>"
      ]
     },
     "metadata": {
      "image/png": {
       "height": 319,
       "width": 355
      }
     },
     "output_type": "display_data"
    }
   ],
   "source": [
    "\"\"\"\n",
    "DON'T MODIFY ANYTHING IN THIS CELL\n",
    "\"\"\"\n",
    "%matplotlib inline\n",
    "%config InlineBackend.figure_format = 'retina'\n",
    "\n",
    "import tensorflow as tf\n",
    "import pickle\n",
    "import helper\n",
    "import random\n",
    "\n",
    "# Set batch size if not already set\n",
    "try:\n",
    "    if batch_size:\n",
    "        pass\n",
    "except NameError:\n",
    "    batch_size = 64\n",
    "\n",
    "save_model_path = './image_classification'\n",
    "n_samples = 4\n",
    "top_n_predictions = 3\n",
    "\n",
    "def test_model():\n",
    "    \"\"\"\n",
    "    Test the saved model against the test dataset\n",
    "    \"\"\"\n",
    "\n",
    "    test_features, test_labels = pickle.load(open('preprocess_training.p', mode='rb'))\n",
    "    loaded_graph = tf.Graph()\n",
    "\n",
    "    with tf.Session(graph=loaded_graph) as sess:\n",
    "        # Load model\n",
    "        loader = tf.train.import_meta_graph(save_model_path + '.meta')\n",
    "        loader.restore(sess, save_model_path)\n",
    "\n",
    "        # Get Tensors from loaded model\n",
    "        loaded_x = loaded_graph.get_tensor_by_name('x:0')\n",
    "        loaded_y = loaded_graph.get_tensor_by_name('y:0')\n",
    "        loaded_keep_prob = loaded_graph.get_tensor_by_name('keep_prob:0')\n",
    "        loaded_logits = loaded_graph.get_tensor_by_name('logits:0')\n",
    "        loaded_acc = loaded_graph.get_tensor_by_name('accuracy:0')\n",
    "        \n",
    "        # Get accuracy in batches for memory limitations\n",
    "        test_batch_acc_total = 0\n",
    "        test_batch_count = 0\n",
    "        \n",
    "        for train_feature_batch, train_label_batch in helper.batch_features_labels(test_features, test_labels, batch_size):\n",
    "            test_batch_acc_total += sess.run(\n",
    "                loaded_acc,\n",
    "                feed_dict={loaded_x: train_feature_batch, loaded_y: train_label_batch, loaded_keep_prob: 1.0})\n",
    "            test_batch_count += 1\n",
    "\n",
    "        print('Testing Accuracy: {}\\n'.format(test_batch_acc_total/test_batch_count))\n",
    "\n",
    "        # Print Random Samples\n",
    "        random_test_features, random_test_labels = tuple(zip(*random.sample(list(zip(test_features, test_labels)), n_samples)))\n",
    "        random_test_predictions = sess.run(\n",
    "            tf.nn.top_k(tf.nn.softmax(loaded_logits), top_n_predictions),\n",
    "            feed_dict={loaded_x: random_test_features, loaded_y: random_test_labels, loaded_keep_prob: 1.0})\n",
    "        helper.display_image_predictions(random_test_features, random_test_labels, random_test_predictions)\n",
    "\n",
    "\n",
    "test_model()"
   ]
  },
  {
   "cell_type": "markdown",
   "metadata": {
    "deletable": true,
    "editable": true
   },
   "source": [
    "## Why 50-70% Accuracy?\n",
    "You might be wondering why you can't get an accuracy any higher. First things first, 50% isn't bad for a simple CNN.  Pure guessing would get you 10% accuracy. However, you might notice people are getting scores [well above 70%](http://rodrigob.github.io/are_we_there_yet/build/classification_datasets_results.html#43494641522d3130).  That's because we haven't taught you all there is to know about neural networks. We still need to cover a few more techniques.\n",
    "## Submitting This Project\n",
    "When submitting this project, make sure to run all the cells before saving the notebook.  Save the notebook file as \"dlnd_image_classification.ipynb\" and save it as a HTML file under \"File\" -> \"Download as\".  Include the \"helper.py\" and \"problem_unittests.py\" files in your submission."
   ]
  }
 ],
 "metadata": {
  "anaconda-cloud": {},
  "kernelspec": {
   "display_name": "Python 3",
   "language": "python",
   "name": "python3"
  },
  "language_info": {
   "codemirror_mode": {
    "name": "ipython",
    "version": 3
   },
   "file_extension": ".py",
   "mimetype": "text/x-python",
   "name": "python",
   "nbconvert_exporter": "python",
   "pygments_lexer": "ipython3",
   "version": "3.5.2"
  },
  "widgets": {
   "state": {},
   "version": "1.1.2"
  }
 },
 "nbformat": 4,
 "nbformat_minor": 0
}
